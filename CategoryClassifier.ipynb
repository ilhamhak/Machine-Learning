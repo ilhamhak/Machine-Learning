{
 "cells": [
  {
   "cell_type": "markdown",
   "id": "27dc5ae7",
   "metadata": {},
   "source": [
    "#### Load Data"
   ]
  },
  {
   "cell_type": "code",
   "execution_count": 54,
   "id": "9a924271",
   "metadata": {},
   "outputs": [],
   "source": [
    "class Review:\n",
    "    def __init__(self, category, text, rating):\n",
    "        self.category = category\n",
    "        self.text = text\n",
    "        self.rating = rating"
   ]
  },
  {
   "cell_type": "code",
   "execution_count": 55,
   "id": "ce6c6931",
   "metadata": {},
   "outputs": [
    {
     "data": {
      "text/plain": [
       "<__main__.Review at 0x26e2188e850>"
      ]
     },
     "execution_count": 55,
     "metadata": {},
     "output_type": "execute_result"
    }
   ],
   "source": [
    "files = ['./sklearn-master/data/category/Electronics_small.json',\n",
    "         './sklearn-master/data/category/Books_small.json',\n",
    "         './sklearn-master/data/category/Clothing_small.json',\n",
    "         './sklearn-master/data/category/Grocery_small.json',\n",
    "         './sklearn-master/data/category/Patio_small.json'] # 1000 each\n",
    "file_categories = [\"Electronics\", \"Books\", \"Clothing\", \"Groceries\", \"Patio\"]\n",
    "\n",
    "import json\n",
    "\n",
    "reviews = []\n",
    "for x in range(len(files)):\n",
    "    file = files[x]\n",
    "    category = file_categories[x]\n",
    "    with open(file) as f:\n",
    "        for line in f:\n",
    "            review_json = json.loads(line)\n",
    "            review = Review(category, review_json[\"reviewText\"], review_json[\"overall\"])\n",
    "            reviews.append(review)\n",
    "reviews[2022]"
   ]
  },
  {
   "cell_type": "markdown",
   "id": "deabb5f4",
   "metadata": {},
   "source": [
    "#### Data prep"
   ]
  },
  {
   "cell_type": "code",
   "execution_count": 56,
   "id": "45bcb081",
   "metadata": {},
   "outputs": [],
   "source": [
    "class ReviewContainer:\n",
    "    def __init__(self,reviews):\n",
    "        self.reviews=reviews\n",
    "    def get_category(self):\n",
    "        return [x.category for x in self.reviews]\n",
    "    def get_text(self):\n",
    "        return [x.text for x in self.reviews]\n",
    "    def get_rating(self):\n",
    "        return[x.rating for x in self.reviews]"
   ]
  },
  {
   "cell_type": "code",
   "execution_count": 57,
   "id": "8b6c1b26",
   "metadata": {},
   "outputs": [],
   "source": [
    "from sklearn.model_selection import train_test_split\n",
    "\n",
    "train, test = train_test_split(reviews, test_size = 0.33, random_state=42)\n",
    "\n",
    "training = ReviewContainer(train)\n",
    "testing = ReviewContainer(test)\n",
    "\n",
    "train_text = training.get_text()\n",
    "train_category = training.get_category()\n",
    "\n",
    "test_text = testing.get_text()\n",
    "test_category = testing.get_category()"
   ]
  },
  {
   "cell_type": "code",
   "execution_count": 58,
   "id": "8725cd89",
   "metadata": {},
   "outputs": [
    {
     "name": "stdout",
     "output_type": "stream",
     "text": [
      "OMG an unbelievable story line. Patterson has to be one of the best authors around.The masterful plot of twists and turns keeps the reader on a non-stop fast moving pace with the most surprising un-expected endings.\n",
      "[[0. 0. 0. ... 0. 0. 0.]]\n"
     ]
    }
   ],
   "source": [
    "from sklearn.feature_extraction.text import CountVectorizer, TfidfVectorizer\n",
    "\n",
    "vectorizer = TfidfVectorizer()\n",
    "train_textv = vectorizer.fit_transform(train_text)\n",
    "test_textv = vectorizer.transform(test_text)\n",
    "\n",
    "print(train_text[0])\n",
    "print(train_textv[0].toarray())"
   ]
  },
  {
   "cell_type": "markdown",
   "id": "e3687f26",
   "metadata": {},
   "source": [
    "#### Classification (svm)"
   ]
  },
  {
   "cell_type": "code",
   "execution_count": 63,
   "id": "ad3af05d",
   "metadata": {},
   "outputs": [
    {
     "data": {
      "text/plain": [
       "<1x16202 sparse matrix of type '<class 'numpy.float64'>'\n",
       "\twith 30 stored elements in Compressed Sparse Row format>"
      ]
     },
     "execution_count": 63,
     "metadata": {},
     "output_type": "execute_result"
    }
   ],
   "source": [
    "from sklearn import svm\n",
    "\n",
    "svm_clf = svm.SVC(C=16, kernel=\"linear\", gamma=\"auto\")\n",
    "svm_clf.fit(train_textv, train_category)\n",
    "\n",
    "test_textv[0]"
   ]
  },
  {
   "cell_type": "markdown",
   "id": "ee4e0e25",
   "metadata": {},
   "source": [
    "#### Testing"
   ]
  },
  {
   "cell_type": "code",
   "execution_count": 67,
   "id": "d4ae8c23",
   "metadata": {},
   "outputs": [
    {
     "data": {
      "text/plain": [
       "array(['Clothing', 'Electronics'], dtype='<U11')"
      ]
     },
     "execution_count": 67,
     "metadata": {},
     "output_type": "execute_result"
    }
   ],
   "source": [
    "test_sent = [\"very stylish\", \"expensive\"]\n",
    "test = vectorizer.transform(test_sent)\n",
    "\n",
    "svm_clf.predict(test)"
   ]
  },
  {
   "cell_type": "markdown",
   "id": "ee05cf88",
   "metadata": {},
   "source": [
    "#### Performance"
   ]
  },
  {
   "cell_type": "code",
   "execution_count": 68,
   "id": "48da8360",
   "metadata": {},
   "outputs": [
    {
     "data": {
      "text/plain": [
       "0.9090909090909091"
      ]
     },
     "execution_count": 68,
     "metadata": {},
     "output_type": "execute_result"
    }
   ],
   "source": [
    "svm_clf.score(test_textv, test_category)"
   ]
  },
  {
   "cell_type": "code",
   "execution_count": 70,
   "id": "9f881499",
   "metadata": {},
   "outputs": [
    {
     "data": {
      "text/plain": [
       "array([0.95111111, 0.89323308, 0.88567294, 0.89891135, 0.91693291])"
      ]
     },
     "execution_count": 70,
     "metadata": {},
     "output_type": "execute_result"
    }
   ],
   "source": [
    "from sklearn.metrics import f1_score\n",
    "\n",
    "pred = svm_clf.predict(test_textv)\n",
    "f1_score(test_category, pred, average=None)"
   ]
  },
  {
   "cell_type": "markdown",
   "id": "f8d98536",
   "metadata": {},
   "source": [
    "#### Confusion Matrix"
   ]
  },
  {
   "cell_type": "code",
   "execution_count": 72,
   "id": "ba2fe5da",
   "metadata": {},
   "outputs": [
    {
     "data": {
      "text/plain": [
       "<AxesSubplot:>"
      ]
     },
     "execution_count": 72,
     "metadata": {},
     "output_type": "execute_result"
    },
    {
     "data": {
      "image/png": "[encoded data removed]",
      "text/plain": [
       "<Figure size 432x288 with 2 Axes>"
      ]
     },
     "metadata": {
      "needs_background": "light"
     },
     "output_type": "display_data"
    }
   ],
   "source": [
    "from sklearn.metrics import confusion_matrix\n",
    "import seaborn as sns\n",
    "import pandas as pd\n",
    "\n",
    "cm = confusion_matrix(test_category, pred, labels=file_categories)\n",
    "df_cm = pd.DataFrame(cm, index=file_categories, columns=file_categories)\n",
    "\n",
    "sns.heatmap(df_cm, annot=True, fmt='d')"
   ]
  }
 ],
 "metadata": {
  "kernelspec": {
   "display_name": "Python 3",
   "language": "python",
   "name": "python3"
  },
  "language_info": {
   "codemirror_mode": {
    "name": "ipython",
    "version": 3
   },
   "file_extension": ".py",
   "mimetype": "text/x-python",
   "name": "python",
   "nbconvert_exporter": "python",
   "pygments_lexer": "ipython3",
   "version": "3.8.8"
  }
 },
 "nbformat": 4,
 "nbformat_minor": 5
}
