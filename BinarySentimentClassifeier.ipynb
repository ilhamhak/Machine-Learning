{
 "cells": [
  {
   "cell_type": "markdown",
   "id": "380f754a",
   "metadata": {},
   "source": [
    "### Import training and testing data"
   ]
  },
  {
   "cell_type": "code",
   "execution_count": 1,
   "id": "2d887ebd",
   "metadata": {},
   "outputs": [],
   "source": [
    "import pandas as pd\n",
    "train = pd.read_csv('Data Train.csv')\n",
    "test = pd.read_csv('Data Test.csv')"
   ]
  },
  {
   "cell_type": "code",
   "execution_count": 2,
   "id": "9939211c",
   "metadata": {},
   "outputs": [
    {
     "name": "stdout",
     "output_type": "stream",
     "text": [
      "<class 'pandas.core.frame.DataFrame'>\n",
      "RangeIndex: 8913 entries, 0 to 8912\n",
      "Data columns (total 3 columns):\n",
      " #   Column    Non-Null Count  Dtype \n",
      "---  ------    --------------  ----- \n",
      " 0   id        8913 non-null   object\n",
      " 1   komentar  8913 non-null   object\n",
      " 2   label     8913 non-null   int64 \n",
      "dtypes: int64(1), object(2)\n",
      "memory usage: 209.0+ KB\n"
     ]
    }
   ],
   "source": [
    "train.info()"
   ]
  },
  {
   "cell_type": "code",
   "execution_count": 3,
   "id": "fd01c408",
   "metadata": {},
   "outputs": [
    {
     "name": "stdout",
     "output_type": "stream",
     "text": [
      "<class 'pandas.core.frame.DataFrame'>\n",
      "RangeIndex: 2229 entries, 0 to 2228\n",
      "Data columns (total 2 columns):\n",
      " #   Column    Non-Null Count  Dtype \n",
      "---  ------    --------------  ----- \n",
      " 0   id        2229 non-null   object\n",
      " 1   komentar  2229 non-null   object\n",
      "dtypes: object(2)\n",
      "memory usage: 35.0+ KB\n"
     ]
    }
   ],
   "source": [
    "test.info()"
   ]
  },
  {
   "cell_type": "markdown",
   "id": "5efd5ae2",
   "metadata": {},
   "source": [
    "I wont be able to test the model on the test data.... split the training data?"
   ]
  },
  {
   "cell_type": "markdown",
   "id": "ab5aa1b7",
   "metadata": {},
   "source": [
    "### Data Inspection"
   ]
  },
  {
   "cell_type": "code",
   "execution_count": 4,
   "id": "397c0a4b",
   "metadata": {},
   "outputs": [
    {
     "data": {
      "text/html": [
       "<div>\n",
       "<style scoped>\n",
       "    .dataframe tbody tr th:only-of-type {\n",
       "        vertical-align: middle;\n",
       "    }\n",
       "\n",
       "    .dataframe tbody tr th {\n",
       "        vertical-align: top;\n",
       "    }\n",
       "\n",
       "    .dataframe thead th {\n",
       "        text-align: right;\n",
       "    }\n",
       "</style>\n",
       "<table border=\"1\" class=\"dataframe\">\n",
       "  <thead>\n",
       "    <tr style=\"text-align: right;\">\n",
       "      <th></th>\n",
       "      <th>id</th>\n",
       "      <th>komentar</th>\n",
       "      <th>label</th>\n",
       "    </tr>\n",
       "  </thead>\n",
       "  <tbody>\n",
       "    <tr>\n",
       "      <th>0</th>\n",
       "      <td>0utykhgdefh5sc05</td>\n",
       "      <td>Kamar terlalu kecil, seperti tak terurus, kual...</td>\n",
       "      <td>0</td>\n",
       "    </tr>\n",
       "    <tr>\n",
       "      <th>1</th>\n",
       "      <td>cpq5e8rp7x5gwlot</td>\n",
       "      <td>teryata letaknya sangat jauh dari pusat kota, ...</td>\n",
       "      <td>0</td>\n",
       "    </tr>\n",
       "    <tr>\n",
       "      <th>2</th>\n",
       "      <td>23gl9938gdhuv18h</td>\n",
       "      <td>Toilet bau, ada kecoa, box makanan berantakan ...</td>\n",
       "      <td>0</td>\n",
       "    </tr>\n",
       "    <tr>\n",
       "      <th>3</th>\n",
       "      <td>cr7i6e7j95wqyf3t</td>\n",
       "      <td>Lokasinya strategis deket kemana2 tempat makan...</td>\n",
       "      <td>0</td>\n",
       "    </tr>\n",
       "    <tr>\n",
       "      <th>4</th>\n",
       "      <td>psomt991rlj9gupn</td>\n",
       "      <td>test</td>\n",
       "      <td>0</td>\n",
       "    </tr>\n",
       "  </tbody>\n",
       "</table>\n",
       "</div>"
      ],
      "text/plain": [
       "                 id                                           komentar  label\n",
       "0  0utykhgdefh5sc05  Kamar terlalu kecil, seperti tak terurus, kual...      0\n",
       "1  cpq5e8rp7x5gwlot  teryata letaknya sangat jauh dari pusat kota, ...      0\n",
       "2  23gl9938gdhuv18h  Toilet bau, ada kecoa, box makanan berantakan ...      0\n",
       "3  cr7i6e7j95wqyf3t  Lokasinya strategis deket kemana2 tempat makan...      0\n",
       "4  psomt991rlj9gupn                                               test      0"
      ]
     },
     "execution_count": 4,
     "metadata": {},
     "output_type": "execute_result"
    }
   ],
   "source": [
    "train.head()"
   ]
  },
  {
   "cell_type": "markdown",
   "id": "2532158b",
   "metadata": {},
   "source": [
    "row 4 is confusing for training data..."
   ]
  },
  {
   "cell_type": "code",
   "execution_count": 5,
   "id": "483d2562",
   "metadata": {},
   "outputs": [
    {
     "data": {
      "text/html": [
       "<div>\n",
       "<style scoped>\n",
       "    .dataframe tbody tr th:only-of-type {\n",
       "        vertical-align: middle;\n",
       "    }\n",
       "\n",
       "    .dataframe tbody tr th {\n",
       "        vertical-align: top;\n",
       "    }\n",
       "\n",
       "    .dataframe thead th {\n",
       "        text-align: right;\n",
       "    }\n",
       "</style>\n",
       "<table border=\"1\" class=\"dataframe\">\n",
       "  <thead>\n",
       "    <tr style=\"text-align: right;\">\n",
       "      <th></th>\n",
       "      <th>id</th>\n",
       "      <th>komentar</th>\n",
       "      <th>label</th>\n",
       "      <th>num_words</th>\n",
       "    </tr>\n",
       "  </thead>\n",
       "  <tbody>\n",
       "    <tr>\n",
       "      <th>0</th>\n",
       "      <td>0utykhgdefh5sc05</td>\n",
       "      <td>Kamar terlalu kecil, seperti tak terurus, kual...</td>\n",
       "      <td>0</td>\n",
       "      <td>10</td>\n",
       "    </tr>\n",
       "    <tr>\n",
       "      <th>1</th>\n",
       "      <td>cpq5e8rp7x5gwlot</td>\n",
       "      <td>teryata letaknya sangat jauh dari pusat kota, ...</td>\n",
       "      <td>0</td>\n",
       "      <td>21</td>\n",
       "    </tr>\n",
       "    <tr>\n",
       "      <th>2</th>\n",
       "      <td>23gl9938gdhuv18h</td>\n",
       "      <td>Toilet bau, ada kecoa, box makanan berantakan ...</td>\n",
       "      <td>0</td>\n",
       "      <td>24</td>\n",
       "    </tr>\n",
       "    <tr>\n",
       "      <th>3</th>\n",
       "      <td>cr7i6e7j95wqyf3t</td>\n",
       "      <td>Lokasinya strategis deket kemana2 tempat makan...</td>\n",
       "      <td>0</td>\n",
       "      <td>51</td>\n",
       "    </tr>\n",
       "    <tr>\n",
       "      <th>4</th>\n",
       "      <td>psomt991rlj9gupn</td>\n",
       "      <td>test</td>\n",
       "      <td>0</td>\n",
       "      <td>1</td>\n",
       "    </tr>\n",
       "  </tbody>\n",
       "</table>\n",
       "</div>"
      ],
      "text/plain": [
       "                 id                                           komentar  label  \\\n",
       "0  0utykhgdefh5sc05  Kamar terlalu kecil, seperti tak terurus, kual...      0   \n",
       "1  cpq5e8rp7x5gwlot  teryata letaknya sangat jauh dari pusat kota, ...      0   \n",
       "2  23gl9938gdhuv18h  Toilet bau, ada kecoa, box makanan berantakan ...      0   \n",
       "3  cr7i6e7j95wqyf3t  Lokasinya strategis deket kemana2 tempat makan...      0   \n",
       "4  psomt991rlj9gupn                                               test      0   \n",
       "\n",
       "   num_words  \n",
       "0         10  \n",
       "1         21  \n",
       "2         24  \n",
       "3         51  \n",
       "4          1  "
      ]
     },
     "execution_count": 5,
     "metadata": {},
     "output_type": "execute_result"
    }
   ],
   "source": [
    "review_text = train.komentar\n",
    "\n",
    "insp = train\n",
    "insp[\"num_words\"] = review_text.str.split().str.len()\n",
    "insp.head()"
   ]
  },
  {
   "cell_type": "code",
   "execution_count": 6,
   "id": "8baa7539",
   "metadata": {},
   "outputs": [
    {
     "data": {
      "text/html": [
       "<div>\n",
       "<style scoped>\n",
       "    .dataframe tbody tr th:only-of-type {\n",
       "        vertical-align: middle;\n",
       "    }\n",
       "\n",
       "    .dataframe tbody tr th {\n",
       "        vertical-align: top;\n",
       "    }\n",
       "\n",
       "    .dataframe thead th {\n",
       "        text-align: right;\n",
       "    }\n",
       "</style>\n",
       "<table border=\"1\" class=\"dataframe\">\n",
       "  <thead>\n",
       "    <tr style=\"text-align: right;\">\n",
       "      <th></th>\n",
       "      <th>id</th>\n",
       "      <th>komentar</th>\n",
       "      <th>label</th>\n",
       "      <th>num_words</th>\n",
       "    </tr>\n",
       "  </thead>\n",
       "  <tbody>\n",
       "    <tr>\n",
       "      <th>41</th>\n",
       "      <td>jiphuhcamvdgx6d0</td>\n",
       "      <td>Sayangnya dikamar tidak ada keset</td>\n",
       "      <td>1</td>\n",
       "      <td>5</td>\n",
       "    </tr>\n",
       "    <tr>\n",
       "      <th>66</th>\n",
       "      <td>5sh5elulo96eua44</td>\n",
       "      <td>nyaman dan tenang serta pelayanannya baik</td>\n",
       "      <td>1</td>\n",
       "      <td>6</td>\n",
       "    </tr>\n",
       "    <tr>\n",
       "      <th>96</th>\n",
       "      <td>4c8vypqbbb98mq8l</td>\n",
       "      <td>Nyaman,bersih sesuai budget...</td>\n",
       "      <td>1</td>\n",
       "      <td>3</td>\n",
       "    </tr>\n",
       "    <tr>\n",
       "      <th>162</th>\n",
       "      <td>v3czrv17w6aayvs2</td>\n",
       "      <td>sangat nyaman dan bersih.hanya agak berisik</td>\n",
       "      <td>1</td>\n",
       "      <td>6</td>\n",
       "    </tr>\n",
       "    <tr>\n",
       "      <th>202</th>\n",
       "      <td>qd9k35y9hqcu4xr0</td>\n",
       "      <td>Kamarnya bersih tenang dan nyaman</td>\n",
       "      <td>1</td>\n",
       "      <td>5</td>\n",
       "    </tr>\n",
       "  </tbody>\n",
       "</table>\n",
       "</div>"
      ],
      "text/plain": [
       "                   id                                     komentar  label  \\\n",
       "41   jiphuhcamvdgx6d0            Sayangnya dikamar tidak ada keset      1   \n",
       "66   5sh5elulo96eua44   nyaman dan tenang serta pelayanannya baik       1   \n",
       "96   4c8vypqbbb98mq8l               Nyaman,bersih sesuai budget...      1   \n",
       "162  v3czrv17w6aayvs2  sangat nyaman dan bersih.hanya agak berisik      1   \n",
       "202  qd9k35y9hqcu4xr0            Kamarnya bersih tenang dan nyaman      1   \n",
       "\n",
       "     num_words  \n",
       "41           5  \n",
       "66           6  \n",
       "96           3  \n",
       "162          6  \n",
       "202          5  "
      ]
     },
     "execution_count": 6,
     "metadata": {},
     "output_type": "execute_result"
    }
   ],
   "source": [
    "positives = insp[insp.label==1]\n",
    "positives[positives.num_words < 7].head()"
   ]
  },
  {
   "cell_type": "markdown",
   "id": "c497e28a",
   "metadata": {},
   "source": [
    "I can't base anything on the length of the review text..."
   ]
  },
  {
   "cell_type": "markdown",
   "id": "31c29a39",
   "metadata": {},
   "source": [
    "### Split Training Data"
   ]
  },
  {
   "cell_type": "code",
   "execution_count": 7,
   "id": "231884da",
   "metadata": {},
   "outputs": [],
   "source": [
    "from sklearn.model_selection import train_test_split\n",
    "\n",
    "training_text, testing_text = train_test_split(train.komentar, test_size = 0.22, random_state=42)\n",
    "training_label, testing_label = train_test_split(train.label, test_size = 0.22, random_state=42)"
   ]
  },
  {
   "cell_type": "code",
   "execution_count": 8,
   "id": "168623ef",
   "metadata": {},
   "outputs": [],
   "source": [
    "from sklearn.feature_extraction.text import CountVectorizer, TfidfVectorizer\n",
    "\n",
    "vectorizer = TfidfVectorizer()\n",
    "train_text = vectorizer.fit_transform(training_text)\n",
    "test_text = vectorizer.transform(testing_text)"
   ]
  },
  {
   "cell_type": "markdown",
   "id": "f7d29b5a",
   "metadata": {},
   "source": [
    "### Classifiers"
   ]
  },
  {
   "cell_type": "markdown",
   "id": "c77044b1",
   "metadata": {},
   "source": [
    "#### svm - with GridSearch tuning"
   ]
  },
  {
   "cell_type": "code",
   "execution_count": 9,
   "id": "b9f052b5",
   "metadata": {},
   "outputs": [
    {
     "data": {
      "text/plain": [
       "GridSearchCV(cv=5, estimator=SVC(),\n",
       "             param_grid={'C': [0.1, 1, 8, 16, 32], 'kernel': ('linear', 'rbf')})"
      ]
     },
     "execution_count": 9,
     "metadata": {},
     "output_type": "execute_result"
    }
   ],
   "source": [
    "from sklearn.model_selection import GridSearchCV\n",
    "from sklearn import svm\n",
    "\n",
    "parameters = {'kernel':('linear', 'rbf'), 'C':[0.1,1,8,16,32]}\n",
    "svc = svm.SVC()\n",
    "svm_clf = GridSearchCV(svc, parameters, cv=5)\n",
    "svm_clf.fit(train_text, training_label)"
   ]
  },
  {
   "cell_type": "code",
   "execution_count": 10,
   "id": "0a24bcb7",
   "metadata": {},
   "outputs": [
    {
     "data": {
      "text/plain": [
       "{'C': 1, 'kernel': 'linear'}"
      ]
     },
     "execution_count": 10,
     "metadata": {},
     "output_type": "execute_result"
    }
   ],
   "source": [
    "svm_clf.best_params_"
   ]
  },
  {
   "cell_type": "code",
   "execution_count": 11,
   "id": "3d7e3281",
   "metadata": {},
   "outputs": [
    {
     "data": {
      "text/plain": [
       "0.9469658337582866"
      ]
     },
     "execution_count": 11,
     "metadata": {},
     "output_type": "execute_result"
    }
   ],
   "source": [
    "svm_clf.score(test_text, testing_label)"
   ]
  },
  {
   "cell_type": "code",
   "execution_count": 12,
   "id": "e0ac61e2",
   "metadata": {},
   "outputs": [
    {
     "data": {
      "text/plain": [
       "array([0.97028571, 0.7535545 ])"
      ]
     },
     "execution_count": 12,
     "metadata": {},
     "output_type": "execute_result"
    }
   ],
   "source": [
    "from sklearn.metrics import f1_score\n",
    "\n",
    "pred = svm_clf.predict(test_text)\n",
    "f1_score(testing_label, pred, average=None)"
   ]
  },
  {
   "cell_type": "markdown",
   "id": "d7ec100c",
   "metadata": {},
   "source": [
    "Does great classifying the negatives, not so much with the positives"
   ]
  },
  {
   "cell_type": "markdown",
   "id": "22b0272c",
   "metadata": {},
   "source": [
    "let's check the sentiment count"
   ]
  },
  {
   "cell_type": "code",
   "execution_count": 13,
   "id": "9fc93d11",
   "metadata": {},
   "outputs": [
    {
     "data": {
      "text/plain": [
       "0    7686\n",
       "1    1227\n",
       "Name: label, dtype: int64"
      ]
     },
     "execution_count": 13,
     "metadata": {},
     "output_type": "execute_result"
    }
   ],
   "source": [
    "train.label.value_counts()"
   ]
  },
  {
   "cell_type": "markdown",
   "id": "d39ae5bf",
   "metadata": {},
   "source": [
    "That is a huge imbalance... if I even them out, the positive scores might go down... I'd be working with a lot less data"
   ]
  },
  {
   "cell_type": "markdown",
   "id": "37c79986",
   "metadata": {},
   "source": [
    "#### svm confusion matrix on training data"
   ]
  },
  {
   "cell_type": "code",
   "execution_count": 14,
   "id": "98ae4c5d",
   "metadata": {},
   "outputs": [
    {
     "name": "stdout",
     "output_type": "stream",
     "text": [
      "0    1713\n",
      "1     248\n",
      "Name: label, dtype: int64\n"
     ]
    },
    {
     "data": {
      "image/png": "[encoded data removed]",
      "text/plain": [
       "<Figure size 432x288 with 2 Axes>"
      ]
     },
     "metadata": {
      "needs_background": "light"
     },
     "output_type": "display_data"
    }
   ],
   "source": [
    "from sklearn.metrics import confusion_matrix\n",
    "import seaborn as sns\n",
    "import pandas as pd\n",
    "\n",
    "cm = confusion_matrix(testing_label, pred, labels=[0,1])\n",
    "df_cm = pd.DataFrame(cm, index=[0,1], columns=[0,1])\n",
    "\n",
    "sns.heatmap(df_cm, annot=True, fmt='d')\n",
    "print((testing_label.value_counts()))"
   ]
  },
  {
   "cell_type": "markdown",
   "id": "8499470e",
   "metadata": {},
   "source": [
    "Predicted values are the y-axis"
   ]
  },
  {
   "cell_type": "code",
   "execution_count": 15,
   "id": "6bb5c01d",
   "metadata": {},
   "outputs": [
    {
     "data": {
      "text/plain": [
       "35.88709677419355"
      ]
     },
     "execution_count": 15,
     "metadata": {},
     "output_type": "execute_result"
    }
   ],
   "source": [
    "89/248 * 100"
   ]
  },
  {
   "cell_type": "markdown",
   "id": "30684f93",
   "metadata": {},
   "source": [
    "over 35% of positives were predicted to be negatives... no bueno"
   ]
  },
  {
   "cell_type": "markdown",
   "id": "59d2a249",
   "metadata": {},
   "source": [
    "#### Even em out, see what happens"
   ]
  },
  {
   "cell_type": "code",
   "execution_count": 16,
   "id": "657312a0",
   "metadata": {},
   "outputs": [
    {
     "data": {
      "text/plain": [
       "0    1227\n",
       "1    1227\n",
       "Name: label, dtype: int64"
      ]
     },
     "execution_count": 16,
     "metadata": {},
     "output_type": "execute_result"
    }
   ],
   "source": [
    "negative = train[train.label == 0]\n",
    "positive = train[train.label == 1]\n",
    "evened_neg = negative[:len(positive)]\n",
    "\n",
    "comb = evened_neg, positive\n",
    "evened_dat = pd.concat(comb)\n",
    "\n",
    "evened_dat.label.value_counts()"
   ]
  },
  {
   "cell_type": "code",
   "execution_count": 17,
   "id": "18e53bba",
   "metadata": {},
   "outputs": [],
   "source": [
    "training_text1, testing_text1 = train_test_split(evened_dat.komentar, test_size = 0.22, random_state=42)\n",
    "training_label1, testing_label1 = train_test_split(evened_dat.label, test_size = 0.22, random_state=42)"
   ]
  },
  {
   "cell_type": "code",
   "execution_count": 18,
   "id": "c09d6e77",
   "metadata": {},
   "outputs": [],
   "source": [
    "train_text1 = vectorizer.fit_transform(training_text1)\n",
    "test_text1 = vectorizer.transform(testing_text1)"
   ]
  },
  {
   "cell_type": "code",
   "execution_count": 19,
   "id": "1ab4217c",
   "metadata": {},
   "outputs": [
    {
     "data": {
      "text/plain": [
       "GridSearchCV(cv=5, estimator=SVC(),\n",
       "             param_grid={'C': [0.1, 1, 8, 16, 32], 'kernel': ('linear', 'rbf')})"
      ]
     },
     "execution_count": 19,
     "metadata": {},
     "output_type": "execute_result"
    }
   ],
   "source": [
    "svm_clf1 = GridSearchCV(svc, parameters, cv=5)\n",
    "svm_clf1.fit(train_text1, training_label1)"
   ]
  },
  {
   "cell_type": "code",
   "execution_count": 20,
   "id": "2c487cd3",
   "metadata": {},
   "outputs": [
    {
     "data": {
      "text/plain": [
       "{'C': 1, 'kernel': 'rbf'}"
      ]
     },
     "execution_count": 20,
     "metadata": {},
     "output_type": "execute_result"
    }
   ],
   "source": [
    "svm_clf1.best_params_"
   ]
  },
  {
   "cell_type": "code",
   "execution_count": 21,
   "id": "870e5abb",
   "metadata": {},
   "outputs": [
    {
     "data": {
      "text/plain": [
       "0.8648148148148148"
      ]
     },
     "execution_count": 21,
     "metadata": {},
     "output_type": "execute_result"
    }
   ],
   "source": [
    "svm_clf1.score(test_text1, testing_label1)"
   ]
  },
  {
   "cell_type": "code",
   "execution_count": 22,
   "id": "3a3c6533",
   "metadata": {},
   "outputs": [
    {
     "data": {
      "text/plain": [
       "array([0.87215412, 0.85658153])"
      ]
     },
     "execution_count": 22,
     "metadata": {},
     "output_type": "execute_result"
    }
   ],
   "source": [
    "pred1 = svm_clf1.predict(test_text1)\n",
    "f1_score(testing_label1, pred1, average=None)"
   ]
  },
  {
   "cell_type": "markdown",
   "id": "b1223d72",
   "metadata": {},
   "source": [
    "Score for positive predictions are much better"
   ]
  },
  {
   "cell_type": "code",
   "execution_count": 23,
   "id": "28b0e6ce",
   "metadata": {},
   "outputs": [
    {
     "name": "stdout",
     "output_type": "stream",
     "text": [
      "1    274\n",
      "0    266\n",
      "Name: label, dtype: int64\n"
     ]
    },
    {
     "data": {
      "image/png": "[encoded data removed]",
      "text/plain": [
       "<Figure size 432x288 with 2 Axes>"
      ]
     },
     "metadata": {
      "needs_background": "light"
     },
     "output_type": "display_data"
    }
   ],
   "source": [
    "cm1 = confusion_matrix(testing_label1, pred1, labels=[0,1])\n",
    "df_cm1 = pd.DataFrame(cm1, index=[0,1], columns=[0,1])\n",
    "\n",
    "sns.heatmap(df_cm1, annot=True, fmt='d')\n",
    "print((testing_label1.value_counts()))"
   ]
  },
  {
   "cell_type": "code",
   "execution_count": 24,
   "id": "16a37e5c",
   "metadata": {},
   "outputs": [
    {
     "name": "stdout",
     "output_type": "stream",
     "text": [
      "6.390977443609022\n",
      "20.437956204379564\n"
     ]
    }
   ],
   "source": [
    "print(17 / 266 * 100)\n",
    "print(56 / 274 * 100)"
   ]
  },
  {
   "cell_type": "markdown",
   "id": "62a15fb5",
   "metadata": {},
   "source": [
    "15% improvement... hmmm"
   ]
  },
  {
   "cell_type": "markdown",
   "id": "55c984ca",
   "metadata": {},
   "source": [
    "Conclusion: Better to use evened out data."
   ]
  },
  {
   "cell_type": "markdown",
   "id": "c3ac0c38",
   "metadata": {},
   "source": [
    "#### naive bayes \n",
    "this is supposed to be good for binary classification..."
   ]
  },
  {
   "cell_type": "code",
   "execution_count": 25,
   "id": "30ae59f4",
   "metadata": {},
   "outputs": [
    {
     "data": {
      "text/plain": [
       "BernoulliNB()"
      ]
     },
     "execution_count": 25,
     "metadata": {},
     "output_type": "execute_result"
    }
   ],
   "source": [
    "from sklearn.naive_bayes import BernoulliNB\n",
    "import numpy as np\n",
    "\n",
    "nb_clf = BernoulliNB()\n",
    "nb_clf.fit(train_text1, training_label1)"
   ]
  },
  {
   "cell_type": "code",
   "execution_count": 26,
   "id": "49e4d302",
   "metadata": {},
   "outputs": [
    {
     "data": {
      "text/plain": [
       "0.825925925925926"
      ]
     },
     "execution_count": 26,
     "metadata": {},
     "output_type": "execute_result"
    }
   ],
   "source": [
    "nb_clf.score(test_text1, testing_label1)"
   ]
  },
  {
   "cell_type": "code",
   "execution_count": 27,
   "id": "dbb000ad",
   "metadata": {},
   "outputs": [
    {
     "data": {
      "text/plain": [
       "array([0.82061069, 0.83093525])"
      ]
     },
     "execution_count": 27,
     "metadata": {},
     "output_type": "execute_result"
    }
   ],
   "source": [
    "pred_nb = nb_clf.predict(test_text1)\n",
    "f1_score(testing_label1, pred_nb, average=None)"
   ]
  },
  {
   "cell_type": "code",
   "execution_count": 28,
   "id": "38f1aa02",
   "metadata": {},
   "outputs": [
    {
     "name": "stdout",
     "output_type": "stream",
     "text": [
      "1    274\n",
      "0    266\n",
      "Name: label, dtype: int64\n"
     ]
    },
    {
     "data": {
      "image/png": "[encoded data removed]",
      "text/plain": [
       "<Figure size 432x288 with 2 Axes>"
      ]
     },
     "metadata": {
      "needs_background": "light"
     },
     "output_type": "display_data"
    }
   ],
   "source": [
    "cm_nb = confusion_matrix(testing_label1, pred_nb, labels=[0,1])\n",
    "df_cm_nb = pd.DataFrame(cm_nb, index=[0,1], columns=[0,1])\n",
    "\n",
    "sns.heatmap(df_cm_nb, annot=True, fmt='d')\n",
    "print((testing_label1.value_counts()))"
   ]
  },
  {
   "cell_type": "code",
   "execution_count": 29,
   "id": "40ea7290",
   "metadata": {},
   "outputs": [
    {
     "name": "stdout",
     "output_type": "stream",
     "text": [
      "19.172932330827066\n",
      "15.693430656934307\n"
     ]
    }
   ],
   "source": [
    "print(51/266*100)\n",
    "print(43/274*100)"
   ]
  },
  {
   "cell_type": "markdown",
   "id": "602d8ebe",
   "metadata": {},
   "source": [
    "this does better at predicting positives, worse at predicting negatives"
   ]
  },
  {
   "cell_type": "markdown",
   "id": "c339c0ac",
   "metadata": {},
   "source": [
    "#### Logistic Regression"
   ]
  },
  {
   "cell_type": "code",
   "execution_count": 30,
   "id": "a98edf37",
   "metadata": {},
   "outputs": [
    {
     "data": {
      "text/plain": [
       "GridSearchCV(cv=10,\n",
       "             estimator=LogisticRegression(max_iter=1000, solver='liblinear'),\n",
       "             param_grid={'C': array([1.e-03, 1.e-02, 1.e-01, 1.e+00, 1.e+01, 1.e+02, 1.e+03]),\n",
       "                         'penalty': ['l1', 'l2']})"
      ]
     },
     "execution_count": 30,
     "metadata": {},
     "output_type": "execute_result"
    }
   ],
   "source": [
    "from sklearn.linear_model import LogisticRegression\n",
    "import numpy as np\n",
    "\n",
    "logreg_parameters = {'penalty':[\"l1\",\"l2\"], 'C':np.logspace(-3,3,7)}\n",
    "log = LogisticRegression(max_iter=1000, solver=\"liblinear\")\n",
    "clf_log = GridSearchCV(log, logreg_parameters, cv=10)\n",
    "clf_log.fit(train_text1, training_label1)"
   ]
  },
  {
   "cell_type": "code",
   "execution_count": 31,
   "id": "13cc8ec8",
   "metadata": {},
   "outputs": [
    {
     "data": {
      "text/plain": [
       "{'C': 10.0, 'penalty': 'l2'}"
      ]
     },
     "execution_count": 31,
     "metadata": {},
     "output_type": "execute_result"
    }
   ],
   "source": [
    "clf_log.best_params_"
   ]
  },
  {
   "cell_type": "code",
   "execution_count": 32,
   "id": "7b1f4474",
   "metadata": {},
   "outputs": [
    {
     "data": {
      "text/plain": [
       "0.8592592592592593"
      ]
     },
     "execution_count": 32,
     "metadata": {},
     "output_type": "execute_result"
    }
   ],
   "source": [
    "clf_log.score(test_text1, testing_label1)"
   ]
  },
  {
   "cell_type": "code",
   "execution_count": 33,
   "id": "a90b9763",
   "metadata": {},
   "outputs": [
    {
     "data": {
      "text/plain": [
       "array([0.86330935, 0.85496183])"
      ]
     },
     "execution_count": 33,
     "metadata": {},
     "output_type": "execute_result"
    }
   ],
   "source": [
    "pred_log = clf_log.predict(test_text1)\n",
    "f1_score(testing_label1, pred_log, average=None)"
   ]
  },
  {
   "cell_type": "code",
   "execution_count": 34,
   "id": "a8ba8673",
   "metadata": {},
   "outputs": [
    {
     "name": "stdout",
     "output_type": "stream",
     "text": [
      "1    274\n",
      "0    266\n",
      "Name: label, dtype: int64\n"
     ]
    },
    {
     "data": {
      "image/png": "[encoded data removed]",
      "text/plain": [
       "<Figure size 432x288 with 2 Axes>"
      ]
     },
     "metadata": {
      "needs_background": "light"
     },
     "output_type": "display_data"
    }
   ],
   "source": [
    "cm_log = confusion_matrix(testing_label1, pred_log, labels=[0,1])\n",
    "df_cm_log = pd.DataFrame(cm_log, index=[0,1], columns=[0,1])\n",
    "\n",
    "sns.heatmap(df_cm_log, annot=True, fmt='d')\n",
    "print((testing_label1.value_counts()))"
   ]
  },
  {
   "cell_type": "code",
   "execution_count": 35,
   "id": "ba9ed5ff",
   "metadata": {},
   "outputs": [
    {
     "name": "stdout",
     "output_type": "stream",
     "text": [
      "9.774436090225564\n",
      "18.248175182481752\n"
     ]
    }
   ],
   "source": [
    "print(26/266*100)\n",
    "print(50/274*100)"
   ]
  },
  {
   "cell_type": "markdown",
   "id": "d58463bb",
   "metadata": {},
   "source": [
    "#### Cost-Sensitive SVM and LogReg "
   ]
  },
  {
   "cell_type": "code",
   "execution_count": 36,
   "id": "7b6baaf0",
   "metadata": {},
   "outputs": [],
   "source": [
    "from numpy import mean\n",
    "from sklearn.datasets import make_classification\n",
    "from sklearn.model_selection import RepeatedStratifiedKFold"
   ]
  },
  {
   "cell_type": "code",
   "execution_count": 62,
   "id": "4bb83511",
   "metadata": {},
   "outputs": [
    {
     "name": "stdout",
     "output_type": "stream",
     "text": [
      "Best: 0.950961 using {'class_weight': {0: 1, 1: 10}}\n"
     ]
    }
   ],
   "source": [
    "# grid search class weights with svm for imbalance classification\n",
    "\n",
    "# define model\n",
    "model = svm.SVC(gamma='scale')\n",
    "# define grid\n",
    "balance = [{0:100,1:1}, {0:10,1:1}, {0:1,1:1}, {0:1,1:10}, {0:1,1:100}]\n",
    "param_grid = dict(class_weight=balance) \n",
    "\n",
    "# define evaluation procedure\n",
    "cv = RepeatedStratifiedKFold(n_splits=10, n_repeats=3, random_state=1)\n",
    "# define grid search\n",
    "grid = GridSearchCV(estimator=model, param_grid=param_grid, n_jobs=-1, cv=cv,\n",
    "                    scoring='roc_auc')\n",
    "# execute the grid search\n",
    "# grid_result_svc = grid.fit(trainf, train.label)\n",
    "grid_result_svc = grid.fit(train_text, training_label)\n",
    "# report the best configuration\n",
    "print(\"Best: %f using %s\" % (grid_result_svc.best_score_, grid_result_svc.best_params_))\n"
   ]
  },
  {
   "cell_type": "code",
   "execution_count": 42,
   "id": "8f345757",
   "metadata": {},
   "outputs": [
    {
     "name": "stdout",
     "output_type": "stream",
     "text": [
      "Best: 0.948780 using {'class_weight': {0: 1, 1: 10}}\n"
     ]
    }
   ],
   "source": [
    "# grid search class weights with logistic regression for imbalance classification\n",
    "\n",
    "# define model\n",
    "model = LogisticRegression(solver='lbfgs')\n",
    "# define grid search\n",
    "grid_log = GridSearchCV(estimator=model, param_grid=param_grid, n_jobs=-1, cv=cv, \n",
    "                        scoring='roc_auc')\n",
    "# execute the grid search\n",
    "grid_result_log = grid_log.fit(train_text, training_label)\n",
    "# report the best configuration\n",
    "print(\"Best: %f using %s\" % (grid_result_log.best_score_, grid_result_log.best_params_))\n"
   ]
  },
  {
   "cell_type": "code",
   "execution_count": 64,
   "id": "8d1fa1a2",
   "metadata": {},
   "outputs": [
    {
     "name": "stdout",
     "output_type": "stream",
     "text": [
      "0.9482703425418526\n",
      "0.9436684368114796\n"
     ]
    }
   ],
   "source": [
    "print(grid_result_svc.score(test_text, testing_label))\n",
    "print(grid_result_log.score(test_text, testing_label))"
   ]
  },
  {
   "cell_type": "code",
   "execution_count": 66,
   "id": "f0203a71",
   "metadata": {},
   "outputs": [
    {
     "name": "stdout",
     "output_type": "stream",
     "text": [
      "[0.9716576  0.76923077]\n",
      "[0.94446112 0.68697124]\n"
     ]
    }
   ],
   "source": [
    "pred_svc_ = grid_result_svc.predict(test_text)\n",
    "print(f1_score(testing_label, pred_svc_, average=None))\n",
    "\n",
    "pred_log_ = grid_result_log.predict(test_text)\n",
    "print(f1_score(testing_label, pred_log_, average=None))"
   ]
  },
  {
   "cell_type": "markdown",
   "id": "4618c35c",
   "metadata": {},
   "source": [
    "svm does better."
   ]
  },
  {
   "cell_type": "code",
   "execution_count": 67,
   "id": "bfefe718",
   "metadata": {},
   "outputs": [
    {
     "name": "stdout",
     "output_type": "stream",
     "text": [
      "0    1713\n",
      "1     248\n",
      "Name: label, dtype: int64\n"
     ]
    },
    {
     "data": {
      "image/png": "[encoded data removed]",
      "text/plain": [
       "<Figure size 432x288 with 2 Axes>"
      ]
     },
     "metadata": {
      "needs_background": "light"
     },
     "output_type": "display_data"
    }
   ],
   "source": [
    "cm_svm_ = confusion_matrix(testing_label, pred_svc_, labels=[0,1])\n",
    "df_cm_svm_ = pd.DataFrame(cm_svm_, index=[0,1], columns=[0,1])\n",
    "\n",
    "sns.heatmap(df_cm_svm_, annot=True, fmt='d')\n",
    "print((testing_label.value_counts()))"
   ]
  },
  {
   "cell_type": "markdown",
   "id": "31524b78",
   "metadata": {},
   "source": [
    "This only does slightly better than the raw svm"
   ]
  },
  {
   "cell_type": "markdown",
   "id": "6b70ea69",
   "metadata": {},
   "source": [
    "### Conclusion:\n",
    "We'll use this ^^"
   ]
  },
  {
   "cell_type": "code",
   "execution_count": 38,
   "id": "bf7ceddd",
   "metadata": {},
   "outputs": [],
   "source": [
    "trainf = vectorizer.fit_transform(train.komentar)\n",
    "testf = vectorizer.transform(test.komentar)"
   ]
  },
  {
   "cell_type": "code",
   "execution_count": 56,
   "id": "259f2e13",
   "metadata": {},
   "outputs": [],
   "source": [
    "test[\"label\"] = grid.predict(testf)"
   ]
  },
  {
   "cell_type": "code",
   "execution_count": 57,
   "id": "bf225eec",
   "metadata": {},
   "outputs": [
    {
     "data": {
      "text/plain": [
       "0    1993\n",
       "1     236\n",
       "Name: label, dtype: int64"
      ]
     },
     "execution_count": 57,
     "metadata": {},
     "output_type": "execute_result"
    }
   ],
   "source": [
    "test.label.value_counts()"
   ]
  },
  {
   "cell_type": "code",
   "execution_count": 58,
   "id": "c789ed70",
   "metadata": {},
   "outputs": [
    {
     "data": {
      "text/html": [
       "<div>\n",
       "<style scoped>\n",
       "    .dataframe tbody tr th:only-of-type {\n",
       "        vertical-align: middle;\n",
       "    }\n",
       "\n",
       "    .dataframe tbody tr th {\n",
       "        vertical-align: top;\n",
       "    }\n",
       "\n",
       "    .dataframe thead th {\n",
       "        text-align: right;\n",
       "    }\n",
       "</style>\n",
       "<table border=\"1\" class=\"dataframe\">\n",
       "  <thead>\n",
       "    <tr style=\"text-align: right;\">\n",
       "      <th></th>\n",
       "      <th>id</th>\n",
       "      <th>label</th>\n",
       "    </tr>\n",
       "  </thead>\n",
       "  <tbody>\n",
       "    <tr>\n",
       "      <th>0</th>\n",
       "      <td>40tvlbae7zq6a9h9</td>\n",
       "      <td>0</td>\n",
       "    </tr>\n",
       "    <tr>\n",
       "      <th>1</th>\n",
       "      <td>olebpcybyecwypsz</td>\n",
       "      <td>0</td>\n",
       "    </tr>\n",
       "    <tr>\n",
       "      <th>2</th>\n",
       "      <td>tfm2rpkpsmd517ot</td>\n",
       "      <td>0</td>\n",
       "    </tr>\n",
       "    <tr>\n",
       "      <th>3</th>\n",
       "      <td>53hcsxg6o92o0wcs</td>\n",
       "      <td>0</td>\n",
       "    </tr>\n",
       "    <tr>\n",
       "      <th>4</th>\n",
       "      <td>jgl6va9ycj0ogu9q</td>\n",
       "      <td>0</td>\n",
       "    </tr>\n",
       "  </tbody>\n",
       "</table>\n",
       "</div>"
      ],
      "text/plain": [
       "                 id  label\n",
       "0  40tvlbae7zq6a9h9      0\n",
       "1  olebpcybyecwypsz      0\n",
       "2  tfm2rpkpsmd517ot      0\n",
       "3  53hcsxg6o92o0wcs      0\n",
       "4  jgl6va9ycj0ogu9q      0"
      ]
     },
     "execution_count": 58,
     "metadata": {},
     "output_type": "execute_result"
    }
   ],
   "source": [
    "out = test.drop(columns='komentar')\n",
    "out.head()"
   ]
  },
  {
   "cell_type": "code",
   "execution_count": 59,
   "id": "3896f000",
   "metadata": {},
   "outputs": [],
   "source": [
    "out.to_csv(\"cssvm.csv\", index=False)"
   ]
  },
  {
   "cell_type": "code",
   "execution_count": null,
   "id": "ff26ceeb",
   "metadata": {},
   "outputs": [],
   "source": []
  }
 ],
 "metadata": {
  "kernelspec": {
   "display_name": "Python 3",
   "language": "python",
   "name": "python3"
  },
  "language_info": {
   "codemirror_mode": {
    "name": "ipython",
    "version": 3
   },
   "file_extension": ".py",
   "mimetype": "text/x-python",
   "name": "python",
   "nbconvert_exporter": "python",
   "pygments_lexer": "ipython3",
   "version": "3.8.8"
  }
 },
 "nbformat": 4,
 "nbformat_minor": 5
}
