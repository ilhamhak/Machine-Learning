{
 "cells": [
  {
   "cell_type": "markdown",
   "id": "9a266675",
   "metadata": {},
   "source": [
    "#### Load Data"
   ]
  },
  {
   "cell_type": "code",
   "execution_count": 4,
   "id": "46e9cc27",
   "metadata": {},
   "outputs": [
    {
     "name": "stdout",
     "output_type": "stream",
     "text": [
      "I hoped for Mia to have some peace in this book, but her story is so real and raw.  Broken World was so touching and emotional because you go from Mia's trauma to her trying to cope.  I love the way the story displays how there is no \"just bouncing back\" from being sexually assaulted.  Mia showed us how those demons come for you every day and how sometimes they best you. I was so in the moment with Broken World and hurt with Mia because she was surrounded by people but so alone and I understood her feelings.  I found myself wishing I could give her some of my courage and strength or even just to be there for her.  Thank you Lizzy for putting a great character's voice on a strong subject and making it so that other peoples story may be heard through Mia's.\n",
      "5.0\n"
     ]
    }
   ],
   "source": [
    "import json\n",
    "\n",
    "file = './sklearn-master/data/sentiment/books_small_10000.json'\n",
    "\n",
    "reviews = []\n",
    "with open(file) as f:\n",
    "    for line in f:\n",
    "        review = json.loads(line)\n",
    "        reviews.append((review[\"reviewText\"], review[\"overall\"]))\n",
    "print(reviews[5][0]) # text\n",
    "print(reviews[5][1]) # rating"
   ]
  },
  {
   "cell_type": "markdown",
   "id": "714c3a30",
   "metadata": {},
   "source": [
    "#### Prep Data"
   ]
  },
  {
   "cell_type": "code",
   "execution_count": 16,
   "id": "e658f9ee",
   "metadata": {},
   "outputs": [
    {
     "name": "stdout",
     "output_type": "stream",
     "text": [
      "644\n",
      "644\n"
     ]
    }
   ],
   "source": [
    "pos = []\n",
    "neg = []\n",
    "for x in range(len(reviews)):\n",
    "    if reviews[x][1] > 3 and len(pos) < len(neg): # evenly distributed\n",
    "        pos.append(reviews[x])\n",
    "    elif reviews[x][1] < 3:\n",
    "        neg.append(reviews[x])\n",
    "print(len(pos))\n",
    "print(len(neg))"
   ]
  },
  {
   "cell_type": "code",
   "execution_count": 18,
   "id": "0d90c753",
   "metadata": {},
   "outputs": [
    {
     "data": {
      "text/plain": [
       "214.66666666666666"
      ]
     },
     "execution_count": 18,
     "metadata": {},
     "output_type": "execute_result"
    }
   ],
   "source": [
    "644/3 # split 1/3 for testing"
   ]
  },
  {
   "cell_type": "code",
   "execution_count": 39,
   "id": "87e1c6e4",
   "metadata": {},
   "outputs": [],
   "source": [
    "def get_sentiment(rating):\n",
    "    if rating > 3:\n",
    "        return \"Positive\"\n",
    "    elif rating < 3:\n",
    "        return \"Negative\""
   ]
  },
  {
   "cell_type": "code",
   "execution_count": 40,
   "id": "9aa1cc01",
   "metadata": {},
   "outputs": [],
   "source": [
    "test = pos[:214] + neg[:214]\n",
    "train = pos[214:] + neg[214:]\n",
    "\n",
    "train_text = []\n",
    "train_rating = []\n",
    "for x in range(len(train)):\n",
    "    train_text.append(train[x][0])\n",
    "    train_rating.append(get_sentiment(train[x][1]))\n",
    "\n",
    "test_text = []\n",
    "test_rating = []\n",
    "for x in range(len(test)):\n",
    "    test_text.append(test[x][0])\n",
    "    test_rating.append(get_sentiment(test[x][1]))"
   ]
  },
  {
   "cell_type": "markdown",
   "id": "f0039616",
   "metadata": {},
   "source": [
    "#### Bag of words vectorization"
   ]
  },
  {
   "cell_type": "code",
   "execution_count": 41,
   "id": "0196d908",
   "metadata": {},
   "outputs": [
    {
     "data": {
      "text/plain": [
       "array([[0., 0., 0., ..., 0., 0., 0.]])"
      ]
     },
     "execution_count": 41,
     "metadata": {},
     "output_type": "execute_result"
    }
   ],
   "source": [
    "from sklearn.feature_extraction.text import CountVectorizer, TfidfVectorizer\n",
    "\n",
    "vectorizer = TfidfVectorizer()\n",
    "train_texts = vectorizer.fit_transform(train_text)\n",
    "test_texts = vectorizer.transform(test_text)\n",
    "\n",
    "train_texts[0].toarray()"
   ]
  },
  {
   "cell_type": "markdown",
   "id": "7b7d8066",
   "metadata": {},
   "source": [
    "#### Classification (svm)"
   ]
  },
  {
   "cell_type": "code",
   "execution_count": 42,
   "id": "d060d0f3",
   "metadata": {},
   "outputs": [
    {
     "data": {
      "text/plain": [
       "array(['Positive'], dtype='<U8')"
      ]
     },
     "execution_count": 42,
     "metadata": {},
     "output_type": "execute_result"
    }
   ],
   "source": [
    "from sklearn import svm\n",
    "\n",
    "svm_clf = svm.SVC(kernel=\"linear\")\n",
    "svm_clf.fit(train_texts, train_rating)\n",
    "\n",
    "svm_clf.predict(test_texts[0])"
   ]
  },
  {
   "cell_type": "code",
   "execution_count": 43,
   "id": "f21ec6eb",
   "metadata": {},
   "outputs": [
    {
     "data": {
      "text/plain": [
       "0.8177570093457944"
      ]
     },
     "execution_count": 43,
     "metadata": {},
     "output_type": "execute_result"
    }
   ],
   "source": [
    "svm_clf.score(test_texts, test_rating)"
   ]
  },
  {
   "cell_type": "code",
   "execution_count": 48,
   "id": "1afc567a",
   "metadata": {},
   "outputs": [
    {
     "data": {
      "text/plain": [
       "array([0.82743363, 0.80693069])"
      ]
     },
     "execution_count": 48,
     "metadata": {},
     "output_type": "execute_result"
    }
   ],
   "source": [
    "from sklearn.metrics import f1_score\n",
    "\n",
    "f1_score(test_rating, svm_clf.predict(test_texts), average=None)"
   ]
  },
  {
   "cell_type": "markdown",
   "id": "51ad69e8",
   "metadata": {},
   "source": [
    "#### Test"
   ]
  },
  {
   "cell_type": "code",
   "execution_count": 53,
   "id": "e073cb08",
   "metadata": {},
   "outputs": [
    {
     "data": {
      "text/plain": [
       "array(['Negative', 'Negative'], dtype='<U8')"
      ]
     },
     "execution_count": 53,
     "metadata": {},
     "output_type": "execute_result"
    }
   ],
   "source": [
    "test_set = [\"this book is terrible\", \"i did not enjoy\"]\n",
    "test = vectorizer.transform(test_set)\n",
    "\n",
    "svm_clf.predict(test)"
   ]
  }
 ],
 "metadata": {
  "kernelspec": {
   "display_name": "Python 3",
   "language": "python",
   "name": "python3"
  },
  "language_info": {
   "codemirror_mode": {
    "name": "ipython",
    "version": 3
   },
   "file_extension": ".py",
   "mimetype": "text/x-python",
   "name": "python",
   "nbconvert_exporter": "python",
   "pygments_lexer": "ipython3",
   "version": "3.8.8"
  }
 },
 "nbformat": 4,
 "nbformat_minor": 5
}
